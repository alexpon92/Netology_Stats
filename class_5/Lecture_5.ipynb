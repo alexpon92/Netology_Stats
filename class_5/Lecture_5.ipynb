{
 "cells": [
  {
   "cell_type": "code",
   "execution_count": 3,
   "metadata": {
    "slideshow": {
     "slide_type": "skip"
    }
   },
   "outputs": [],
   "source": [
    "import pandas as pd\n",
    "import numpy as np\n",
    "import matplotlib.pyplot as plt\n",
    "import scipy.stats as sts\n",
    "%matplotlib inline"
   ]
  },
  {
   "cell_type": "markdown",
   "metadata": {
    "slideshow": {
     "slide_type": "slide"
    }
   },
   "source": [
    "## Занятие 5\n",
    "\n",
    "### Summary"
   ]
  },
  {
   "cell_type": "markdown",
   "metadata": {
    "slideshow": {
     "slide_type": "slide"
    }
   },
   "source": [
    "### Ревью ДЗ №1"
   ]
  },
  {
   "cell_type": "markdown",
   "metadata": {
    "slideshow": {
     "slide_type": "fragment"
    }
   },
   "source": [
    "### Задача 1. Ладьи \n",
    "\n",
    "Пункт а)\n",
    "- $P =\\dfrac{\\text{Кол-во расстановок, когда n ладей не бьют друг друга}}{\\text{Общее число расстановок}} = \\dfrac{M}{N}$ \n",
    "- $N = C_{n^2}^n = \\dfrac{n^2!}{n!\\cdot(n^2 - n)!}$\n",
    "- $M = n!$ \n",
    "- $P = \\dfrac{(n!)^2 \\cdot (n^2 - n)!}{n^2!}$"
   ]
  },
  {
   "cell_type": "markdown",
   "metadata": {
    "slideshow": {
     "slide_type": "slide"
    }
   },
   "source": [
    "Пункт б)\n",
    "- Нужно использовать формулу включений-исключений!"
   ]
  },
  {
   "cell_type": "markdown",
   "metadata": {
    "slideshow": {
     "slide_type": "slide"
    }
   },
   "source": [
    "### Пример\n",
    "\n",
    "В классе 40 человек знает английский, 20 - немецкий, 25 - французский, 14 А + Н, 12 А+Ф, 10 Н + Ф, 4 А+Н+Ф. В классе 60 человек. Сколько человек не знают ничего?"
   ]
  },
  {
   "cell_type": "markdown",
   "metadata": {
    "slideshow": {
     "slide_type": "fragment"
    }
   },
   "source": [
    "Пусть $A_1$ - 1-я ладья на главной диагонали, $A_2$ - 2-я ладья на главной диагонали, ... , $A_1 \\cap A_2$ - 1 и 2-я ладьи на главных диагоналях ...\n",
    "\n",
    "$\\bar{A}_1$ - 1-я ладья на главной диагонали, $\\bar{A}_2$ - 2-я ладья на главной диагонали, ... \n",
    "\n",
    "$$N(\\bar{A_1}, ..., \\bar{A_n}) = N - N(A_1) - ... -  N(A_N) + N(A_1, A_2) + ... + N(A_N, A_{N-1}) - ... +(-1)^N N(A_1, ..., A_N) $$\n",
    "\n",
    "**Формула включений-исключений** https://ru.wikipedia.org/wiki/%D0%A4%D0%BE%D1%80%D0%BC%D1%83%D0%BB%D0%B0_%D0%B2%D0%BA%D0%BB%D1%8E%D1%87%D0%B5%D0%BD%D0%B8%D0%B9-%D0%B8%D1%81%D0%BA%D0%BB%D1%8E%D1%87%D0%B5%D0%BD%D0%B8%D0%B9"
   ]
  },
  {
   "cell_type": "markdown",
   "metadata": {
    "slideshow": {
     "slide_type": "slide"
    }
   },
   "source": [
    "Пункт б)\n",
    "- Нужно использовать формулу включений-исключений!\n",
    "- $N(A_1) = (n-1)!$\n",
    "- $N(A_1, A_2) = (n-2)!$\n",
    "- ...\n",
    "- $\\displaystyle \\sum_{k=0}^N \\frac{(-1)^k}{k!} \\approx e^{-1}$"
   ]
  },
  {
   "cell_type": "markdown",
   "metadata": {
    "slideshow": {
     "slide_type": "slide"
    }
   },
   "source": [
    "### Задача 2 (\"шестигранный кубик\")\n",
    "\n",
    "- $P(A|B) = \\dfrac{P(A \\cap B)}{P(B)} = \\dfrac{P(A)}{P(B)}$, почему?\n",
    "- нужно правильно посчитать вероятности событий $P(B) = P(\\{\\text{хотя бы ...}\\})$\n",
    "- легче посчитать вероятность отрицания такого событий и $P(B) = 1 - P(\\bar{B})$"
   ]
  },
  {
   "cell_type": "markdown",
   "metadata": {
    "slideshow": {
     "slide_type": "slide"
    }
   },
   "source": [
    "### Задача 3 (\"Возраст\")\n",
    "\n",
    "- $P(A|B) = \\dfrac{P(A \\cap B)}{P(B)} = \\dfrac{P(A)}{P(B)}$\n",
    "- на этом всё\n"
   ]
  },
  {
   "cell_type": "markdown",
   "metadata": {
    "slideshow": {
     "slide_type": "slide"
    }
   },
   "source": [
    "### Задача 4 (\"Качественная обувь\")\n",
    "\n",
    "- а) нужно было найти вероятность качественной обуви, а не наоборот!\n",
    "- б) тут событие $P(\\text{модель 2 типа | некачественная обувь})$\n",
    "- используем формулу Байеса (здесь почти как формула условной вероятности)\n"
   ]
  },
  {
   "cell_type": "markdown",
   "metadata": {
    "slideshow": {
     "slide_type": "slide"
    }
   },
   "source": [
    "### Задача 5 (\"Распределение Пуассона\")\n",
    "\n",
    "- Результат выпадения симметричного шестигранного кубика.\n",
    "- Количество людей в очереди на кассу в супермаркете.\n",
    "- Количество изюма в булочках с изюмом.\n",
    "- Число попаданий в баскетбольное кольцо за $n$ попыток.\n",
    "- Точное время прихода на работу."
   ]
  },
  {
   "cell_type": "markdown",
   "metadata": {
    "slideshow": {
     "slide_type": "fragment"
    }
   },
   "source": [
    "- равномерное\n",
    "- Пуассона\n",
    "- Пуассона\n",
    "- биномиальное\n",
    "- нормальное"
   ]
  },
  {
   "cell_type": "markdown",
   "metadata": {
    "slideshow": {
     "slide_type": "slide"
    }
   },
   "source": [
    "### Задача 6 (\"Распределения\")\n",
    "\n",
    "- не рисуйте на одном графике плотность и функцию распределения (в задании имелось в виду другое)\n",
    "- подписывайте title, указывая распределение и функцию\n",
    "- используйте \\$ \\$ для параметров (если нужно) в легенде"
   ]
  },
  {
   "cell_type": "markdown",
   "metadata": {
    "slideshow": {
     "slide_type": "fragment"
    }
   },
   "source": [
    "## А вообще было много хороших работ и красивых ноутбуков - спасибо, молодцы!"
   ]
  },
  {
   "cell_type": "markdown",
   "metadata": {
    "slideshow": {
     "slide_type": "slide"
    }
   },
   "source": [
    "## Обсуждаем hw2 онлайн"
   ]
  },
  {
   "cell_type": "markdown",
   "metadata": {
    "slideshow": {
     "slide_type": "slide"
    }
   },
   "source": [
    "### p-value\n",
    "#### Разоблачения\n",
    "\n",
    "- p-value $\\ne P\\{H_0 \\text{ верна }\\} $\n",
    "\n",
    "Если $H_0$ верна, то с вероятностью $p$ произойдет наше событие\n",
    "\n",
    "- Если $0.05 < p_1 < p_2$, то из этого не следует, что гипотеза с $p_2$ вероятнее, чем с $p_1$\n",
    "\n",
    "\n",
    "- Если $p =0.3 > 0.05$, то из этого не следует, что она верна. Следует, что мы ее не отвергаем на данном этапе\n",
    "\n",
    "Про $p-value$ и не только простым языком https://habr.com/ru/company/stepic/blog/250527/"
   ]
  },
  {
   "cell_type": "markdown",
   "metadata": {
    "slideshow": {
     "slide_type": "slide"
    }
   },
   "source": [
    "### Проверка принадлежности распределению\n",
    "\n",
    "- Критерий Колмогорова-Смирнова https://ru.wikipedia.org/wiki/%D0%9A%D1%80%D0%B8%D1%82%D0%B5%D1%80%D0%B8%D0%B9_%D1%81%D0%BE%D0%B3%D0%BB%D0%B0%D1%81%D0%B8%D1%8F_%D0%9A%D0%BE%D0%BB%D0%BC%D0%BE%D0%B3%D0%BE%D1%80%D0%BE%D0%B2%D0%B0\n",
    "- Критерий Шапиро-Уилка (проверка на нормальность)\n",
    "http://www.machinelearning.ru/wiki/index.php?title=%D0%9A%D1%80%D0%B8%D1%82%D0%B5%D1%80%D0%B8%D0%B9_%D0%A8%D0%B0%D0%BF%D0%B8%D1%80%D0%BE-%D0%A3%D0%B8%D0%BB%D0%BA%D0%B0\n",
    "- Критерий омега-квадрат http://www.machinelearning.ru/wiki/index.php?title=%D0%9A%D1%80%D0%B8%D1%82%D0%B5%D1%80%D0%B8%D0%B9_%D0%BE%D0%BC%D0%B5%D0%B3%D0%B0-%D0%BA%D0%B2%D0%B0%D0%B4%D1%80%D0%B0%D1%82"
   ]
  },
  {
   "cell_type": "markdown",
   "metadata": {
    "slideshow": {
     "slide_type": "slide"
    }
   },
   "source": [
    "### Визуализация\n",
    "\n",
    "- Большой пост об этом на примере pandas https://habr.com/ru/company/ods/blog/323210/\n"
   ]
  },
  {
   "cell_type": "markdown",
   "metadata": {
    "slideshow": {
     "slide_type": "slide"
    }
   },
   "source": [
    "### z-значение (см занятие №3) \n",
    "\n",
    "Любое распределение можно преобразовать в шкалу, где $M_z = 0$, a $D_z = 1$ \n",
    "\n",
    "$$z = \\frac{X_i - \\bar{X}}{\\sigma}$$\n",
    "\n",
    "Легко проверить, что такая случайная величина будет иметь среднее значение 0 и дисперсию 1."
   ]
  },
  {
   "cell_type": "markdown",
   "metadata": {
    "slideshow": {
     "slide_type": "slide"
    }
   },
   "source": [
    "### T-test \n",
    "- Односторонний t-test (ttest_1samp)\n",
    "\n",
    "$$t = \\frac{\\bar{X} - M}{SE}$$\n",
    "\n",
    "Гипотеза $H_0: M_{X} = M^0$\n",
    "\n",
    "- Двусторонний t-test (ttest_ind)\n",
    "\n",
    "$$t = \\dfrac{(\\bar{X_1} - \\bar{X_2}) - (M_1 - M_2)}{ \\sqrt{\\frac{s_1^2}{n_1} + \\frac{s_2^2}{n_2}}} = \\dfrac{\\bar{X_1} - \\bar{X_2}}{ \\sqrt{\\frac{s_1^2}{n_1} + \\frac{s_2^2}{n_2}}} $$\n",
    "\n",
    "Гипотеза $H_0: M_{X} = M_{Y} $\n",
    "\n",
    "- тут не про зависимость случайных величин"
   ]
  },
  {
   "cell_type": "markdown",
   "metadata": {
    "slideshow": {
     "slide_type": "slide"
    }
   },
   "source": [
    "### Эмпирическая функция распределения (см занятие №2)\n",
    "\n",
    "Если мы знаем, что $X_1$ - непрерываное распределения со значениями, тогда оценим функцию распределения:\n",
    "\n",
    "$$\\bar{F_n}(x) = \\frac{1}{n}  \\sum_{i=0}^n [X_i \\le x]$$\n",
    "\n",
    "Функция $\\bar{F_n}(x)$ называется **эмпирической функцией распределения**"
   ]
  },
  {
   "cell_type": "code",
   "execution_count": 12,
   "metadata": {
    "slideshow": {
     "slide_type": "fragment"
    }
   },
   "outputs": [
    {
     "data": {
      "text/plain": [
       "<matplotlib.legend.Legend at 0x7fd67f83fd30>"
      ]
     },
     "execution_count": 12,
     "metadata": {},
     "output_type": "execute_result"
    },
    {
     "data": {
      "image/png": "[encoded data removed]",
      "text/plain": [
       "<Figure size 1080x576 with 1 Axes>"
      ]
     },
     "metadata": {
      "needs_background": "light"
     },
     "output_type": "display_data"
    }
   ],
   "source": [
    "norm_rv = sts.norm(0, 1)\n",
    "sample = norm_rv.rvs(100)\n",
    "\n",
    "x = np.linspace(-2,2,100)\n",
    "cdf = norm_rv.cdf(x)\n",
    "\n",
    "plt.figure(figsize=(15,8))\n",
    "plt.plot(x, cdf, label='Theoretical CDF')\n",
    "\n",
    "# для построения ECDF используем библиотеку statsmodels\n",
    "from statsmodels.distributions.empirical_distribution import ECDF\n",
    "ecdf = ECDF(sample)\n",
    "plt.step(ecdf.x, ecdf.y, label='ECDF')\n",
    "\n",
    "plt.title(\"Normal distribution with $a=0, \\sigma^2=1$\")\n",
    "plt.ylabel('$f(x)$')\n",
    "plt.xlabel('$x$')\n",
    "plt.legend(loc='upper left')"
   ]
  },
  {
   "cell_type": "markdown",
   "metadata": {
    "slideshow": {
     "slide_type": "slide"
    }
   },
   "source": [
    "### Что дальше?\n",
    "- Статистика и котики https://www.labirint.ru/books/638687/\n",
    "- Основы статистики https://stepik.org/course/76/syllabus\n",
    "- Наглядная математическая статистика https://www.litres.ru/m-b-lagutin-6593695/naglyadnaya-matematicheskaya-statistika-uchebnoe-posobie-6713832/"
   ]
  }
 ],
 "metadata": {
  "celltoolbar": "Slideshow",
  "kernelspec": {
   "display_name": "dmia",
   "language": "python",
   "name": "dmia"
  },
  "language_info": {
   "codemirror_mode": {
    "name": "ipython",
    "version": 3
   },
   "file_extension": ".py",
   "mimetype": "text/x-python",
   "name": "python",
   "nbconvert_exporter": "python",
   "pygments_lexer": "ipython3",
   "version": "3.6.6"
  }
 },
 "nbformat": 4,
 "nbformat_minor": 2
}
