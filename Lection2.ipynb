{
 "cells": [
  {
   "cell_type": "code",
   "execution_count": 2,
   "metadata": {
    "slideshow": {
     "slide_type": "skip"
    }
   },
   "outputs": [],
   "source": [
    "import numpy as np\n",
    "import scipy.stats as sts\n",
    "import random \n",
    "from matplotlib import pyplot as plt\n",
    "%matplotlib inline"
   ]
  },
  {
   "cell_type": "markdown",
   "metadata": {
    "slideshow": {
     "slide_type": "slide"
    }
   },
   "source": [
    "# Занятие 2\n",
    "\n",
    "## Переход от описательной статистики к стат анализу"
   ]
  },
  {
   "cell_type": "markdown",
   "metadata": {
    "slideshow": {
     "slide_type": "slide"
    }
   },
   "source": [
    "### Независимость событий\n",
    "\n",
    "События А и В называются **независимыми**, если \n",
    "$$\\mathbb{P}(A \\cap B) = \\mathbb{P}(A) \\mathbb{P}(B) $$"
   ]
  },
  {
   "cell_type": "markdown",
   "metadata": {
    "slideshow": {
     "slide_type": "fragment"
    }
   },
   "source": [
    "Отсюда следует, что события независимы тогда и только тогда, когда\n",
    "$$ \\mathbb{P}(A|B) = \\frac{\\mathbb{P}(A \\cap B)}{\\mathbb{P}(B)} = \\frac{\\mathbb{P}(A) \\mathbb{P}(B)}{\\mathbb{P}(B)} = \\mathbb{P}(A) $$"
   ]
  },
  {
   "cell_type": "markdown",
   "metadata": {
    "slideshow": {
     "slide_type": "slide"
    }
   },
   "source": [
    "Система событий $A = A_1, A_2, ..., A_n$ называется **независимой попарно**, если любая пары событий из них являются независимыми.\n",
    "$$\\forall i, j:\\ \\mathbb{P}(A_i \\cap A_j) = \\mathbb{P}(A_i) \\mathbb{P}(A_j) $$"
   ]
  },
  {
   "cell_type": "markdown",
   "metadata": {
    "slideshow": {
     "slide_type": "fragment"
    }
   },
   "source": [
    "Система событий $A = A_1, A_2, ..., A_n$ называется **независимой в совокупности**, если выбирая любое количество событий из $A$, они будут независимы.\n",
    "$$\\mathbb{P}(A_{i_1} \\cap A_{i_2} \\cap ... \\cap A_{i_k}) = \\mathbb{P}(A_{i_1}) \\cdot \\mathbb{P}(A_{i_2}) \\cdot ... \\cdot \\mathbb{P}(A_{i_k})$$"
   ]
  },
  {
   "cell_type": "markdown",
   "metadata": {
    "slideshow": {
     "slide_type": "fragment"
    }
   },
   "source": [
    "#### Независимость в совокусти более строгое условие!"
   ]
  },
  {
   "cell_type": "markdown",
   "metadata": {
    "slideshow": {
     "slide_type": "slide"
    }
   },
   "source": [
    "### Независимость случайных величин\n",
    "\n",
    "Пусть $\\xi = (a_1, a_2, ..., a_n)$, $\\eta = (b_1, b_2, ..., b_k)$ случайные величины, принимающие следующие \n",
    "значения. Тогда $\\xi$ и $\\eta$ **независимые случайные величины**, если \n",
    "\n",
    "$$\\mathbb{P}(\\xi = a_k \\cap \\eta = b_j) = \\mathbb{P}(\\xi = a_k) \\mathbb{P}( \\eta = b_j) $$\n",
    "\n",
    "Обозначение: $\\xi \\perp \\!\\!\\! \\perp \\eta$"
   ]
  },
  {
   "cell_type": "markdown",
   "metadata": {
    "slideshow": {
     "slide_type": "fragment"
    }
   },
   "source": [
    "Набор случайных величин ($\\xi_1, ..., \\xi_n$) называется **независимыми в совокупности случайными величинами**, если для любого набора \n",
    "\n",
    "$$\\mathbb{P}(\\xi = a_k: \\cap \\eta = b_j) = \\mathbb{P}(\\xi = a_k) \\mathbb{P}( \\eta = b_j) $$\n"
   ]
  },
  {
   "cell_type": "markdown",
   "metadata": {
    "slideshow": {
     "slide_type": "fragment"
    }
   },
   "source": [
    "Cлучайные величины $\\xi_1, ..., \\xi_n$ называются **одинаково распределенными**, если они все принадлежат одному и тому же распределению. \n",
    "\n",
    "Например, все отвечают бросанию 6-гранного кубика. Если одна из них соответствует бросанию 8-гранного кубика, то они не одинаково распределенные."
   ]
  },
  {
   "cell_type": "markdown",
   "metadata": {
    "slideshow": {
     "slide_type": "slide"
    }
   },
   "source": [
    "Последовательность независимых одинаково распределенных случайных величин $X^n = X_1, ..., X_n$ называется **выборкой** размера $n$.\n",
    "\n",
    "**Статистика** --- любая функция от выборки $T(X^n)$"
   ]
  },
  {
   "cell_type": "markdown",
   "metadata": {
    "slideshow": {
     "slide_type": "slide"
    }
   },
   "source": [
    "#### Пусть $X^n$ --- выборка, тогда как оценить распределение?"
   ]
  },
  {
   "cell_type": "markdown",
   "metadata": {
    "slideshow": {
     "slide_type": "fragment"
    }
   },
   "source": [
    "Если мы знаем, что $X_1$ - дискретное распределения со значениями $(a_1, ..., a_k)$, тогда\n",
    "\n",
    "$$\\bar{p}_k = \\frac{1}{n} \\sum_{i=0}^n [X_i = a_k], $$\n",
    "где $[ ... ]$ **индикатор события**, который равен 1, если условие верное и 0 иначе"
   ]
  },
  {
   "cell_type": "markdown",
   "metadata": {
    "slideshow": {
     "slide_type": "fragment"
    }
   },
   "source": [
    "Если мы знаем, что $X_1$ - непрерываное распределения со значениями, тогда оценим функцию распределения:\n",
    "\n",
    "$$\\bar{F_n}(x) = \\frac{1}{n}  \\sum_{i=0}^n [X_i \\le x]$$\n",
    "\n",
    "Функция $\\bar{F_n}(x)$ называется **эмпирической функцией распределения**\n"
   ]
  },
  {
   "cell_type": "markdown",
   "metadata": {
    "slideshow": {
     "slide_type": "slide"
    }
   },
   "source": [
    "### Основные статистические понятия\n",
    "\n",
    "**Математическое ожидание** (средневзвешанное значение) --- \n",
    "\n",
    "$$\\mathbb{E}X = \\begin{cases} \n",
    "\\displaystyle \\sum_i a_i p_i,  \\text{дискретное распределение} \\\\\n",
    "\\displaystyle \\int_{-\\infty}^{+\\infty} x p(x), \\text{непрерывное распределение}\n",
    "\\end{cases}$$"
   ]
  },
  {
   "cell_type": "markdown",
   "metadata": {
    "slideshow": {
     "slide_type": "slide"
    }
   },
   "source": [
    "**Квантиль порядка $\\alpha$** --- это такое число $X_\\alpha$,что выполнено\n",
    "\n",
    "$$X_\\alpha :\\ \\mathbb{P}(X \\le X_\\alpha) \\ge \\alpha, \\mathbb{P}(X \\ge X_\\alpha) \\ge 1 - \\alpha, $$\n",
    "\n",
    "**Медиана выборки** --- квантиль порядка $1/2$\n",
    "\n",
    "$$X_{MED} :\\ \\mathbb{P}(X \\le X_{MED}) \\ge 1/2, \\mathbb{P}(X \\ge X_{MED}) \\ge 1/2, $$"
   ]
  },
  {
   "cell_type": "markdown",
   "metadata": {
    "slideshow": {
     "slide_type": "slide"
    }
   },
   "source": [
    "**Мода** выборки --- наивероятнейшее значение случайной величины\n",
    "\n",
    "$$mode X = \\begin{cases} \n",
    "\\displaystyle \\arg \\max_i p_i,  \\text{дискретное распределение} \\\\\n",
    "\\displaystyle \\arg \\max p(x), \\text{непрерывное распределение}\n",
    "\\end{cases}$$"
   ]
  },
  {
   "cell_type": "markdown",
   "metadata": {
    "slideshow": {
     "slide_type": "slide"
    }
   },
   "source": [
    "**Дисперсия** распределения \n",
    "\n",
    "$$ \\mathbb{D}X = \\mathbb{E}x^2 - (\\mathbb{E}x)^2$$\n",
    "\n",
    "$\\sqrt{\\mathbb{D}X}$ --- **среднеквадратичное отклонение**\n"
   ]
  },
  {
   "cell_type": "markdown",
   "metadata": {
    "slideshow": {
     "slide_type": "fragment"
    }
   },
   "source": [
    "**Интерквартильный размах** \n",
    "$$IQR  = X_{0.75} - X_{0.25} $$"
   ]
  },
  {
   "cell_type": "markdown",
   "metadata": {
    "slideshow": {
     "slide_type": "slide"
    }
   },
   "source": [
    "### Как посчитать статистики?"
   ]
  },
  {
   "cell_type": "markdown",
   "metadata": {
    "slideshow": {
     "slide_type": "fragment"
    }
   },
   "source": [
    "#### Матожидание\n",
    "\n",
    "$$\\bar{X} = \\frac 1n \\sum_i X_i - \\text{выборочное среднее} $$"
   ]
  },
  {
   "cell_type": "markdown",
   "metadata": {
    "slideshow": {
     "slide_type": "fragment"
    }
   },
   "source": [
    "#### Медиана\n",
    "\n",
    "$(X_{(1)}, X_{(2)}, ..., X_{(n)}): X_{(1)} \\le X_{(2)} \\le ... \\le X_{(n)}$\n",
    "\n",
    "$$m = \\begin{cases}\n",
    "X_{(n / 2)},\\ n = 2k \\\\\n",
    "\\dfrac{X_{(n / 2)} + X_{(n / 2) + 1}}{2},\\ n = 2k + 1 \\\\\n",
    "\\end{cases}$$"
   ]
  },
  {
   "cell_type": "markdown",
   "metadata": {
    "slideshow": {
     "slide_type": "slide"
    }
   },
   "source": [
    "#### Выборочная дисперсия\n",
    "\n",
    "$$s^2 = \\frac{1}{n-1} \\sum_i (X_i - \\bar{X})^2 $$"
   ]
  },
  {
   "cell_type": "markdown",
   "metadata": {
    "slideshow": {
     "slide_type": "slide"
    }
   },
   "source": [
    "### Центральная предельная теорема\n",
    "\n",
    "Пусть $X_1, ..., X_n$ - независимые одинаково распределенные случайные величины, $S_n = \\sum_i X_i$,  тогда \n",
    "\n",
    "$$\\dfrac{S_n - \\mathbb{E} S_n}{\\sqrt{\\mathbb{D} X_n}} \\rightarrow^d \\mathcal{N}(0,1)$$"
   ]
  },
  {
   "cell_type": "markdown",
   "metadata": {
    "slideshow": {
     "slide_type": "fragment"
    }
   },
   "source": [
    "В нашем случае важно, что \n",
    "\n",
    "$$\\bar{X_n} \\rightarrow^d \\mathcal{N}(\\mathbb{E}X_n,\\frac{\\mathbb{D}X_n}{n})$$"
   ]
  },
  {
   "cell_type": "code",
   "execution_count": null,
   "metadata": {},
   "outputs": [],
   "source": []
  }
 ],
 "metadata": {
  "celltoolbar": "Slideshow",
  "kernelspec": {
   "display_name": "Python 3",
   "language": "python",
   "name": "python3"
  },
  "language_info": {
   "codemirror_mode": {
    "name": "ipython",
    "version": 3
   },
   "file_extension": ".py",
   "mimetype": "text/x-python",
   "name": "python",
   "nbconvert_exporter": "python",
   "pygments_lexer": "ipython3",
   "version": "3.6.6"
  }
 },
 "nbformat": 4,
 "nbformat_minor": 2
}
